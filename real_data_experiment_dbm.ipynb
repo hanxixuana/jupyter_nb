{
 "cells": [
  {
   "cell_type": "markdown",
   "metadata": {},
   "source": [
    "# Beyong GLM: Delta Boosting Machine \n",
    "                       --- A Real Data-Set Analysis Case\n",
    "\n",
    "Author: Simon Lee, FCAS, ASA, Regional Head of Big Data and Analytics\n"
   ]
  },
  {
   "cell_type": "markdown",
   "metadata": {},
   "source": [
    "### Load packages and setup parameters..."
   ]
  },
  {
   "cell_type": "code",
   "execution_count": 1,
   "metadata": {
    "collapsed": true
   },
   "outputs": [
    {
     "name": "stderr",
     "output_type": "stream",
     "text": [
      "Loading required package: delta\n",
      "Loading required package: survival\n",
      "Loading required package: lattice\n",
      "Loading required package: splines\n",
      "Loading required package: parallel\n",
      "Loaded delta 0.1\n",
      "Loading required package: gbm\n",
      "Warning message:\n",
      "\"package 'gbm' was built under R version 3.2.5\"Loaded gbm 2.1.1\n",
      "\n",
      "Attaching package: 'gbm'\n",
      "\n",
      "The following objects are masked from 'package:delta':\n",
      "\n",
      "    basehaz.gbm, calibrate.plot, checkID, checkMissing, checkOffset,\n",
      "    checkWeights, gbm.conc, gbm.loss, gbm.more, gbm.perf, gbm.roc.area,\n",
      "    gbmCluster, gbmCrossValErr, gbmCrossValModelBuild,\n",
      "    gbmCrossValPredictions, gbmDoFold, getCVgroup, getStratify,\n",
      "    getVarNames, guessDist, interact.gbm, ir.measure.auc,\n",
      "    ir.measure.conc, ir.measure.map, ir.measure.mrr, ir.measure.ndcg,\n",
      "    perf.pairwise, permutation.test.gbm, plot.gbm, pretty.gbm.tree,\n",
      "    print.gbm, quantile.rug, reconstructGBMdata, relative.influence,\n",
      "    shrink.gbm, shrink.gbm.pred, summary.gbm, test.gbm,\n",
      "    test.relative.influence, validate.gbm\n",
      "\n",
      "Loading required package: mgcv\n",
      "Loading required package: nlme\n",
      "This is mgcv 1.8-9. For overview type 'help(\"mgcv-package\")'.\n",
      "Loading required package: stringr\n",
      "Warning message:\n",
      "\"package 'stringr' was built under R version 3.2.5\"Loading required package: plyr\n",
      "Loading required package: reshape2\n",
      "Loading required package: ggplot2\n"
     ]
    }
   ],
   "source": [
    "## Load Packages\n",
    "require(delta)\n",
    "require(gbm)\n",
    "require(mgcv)\n",
    "require(stringr)\n",
    "require(plyr)\n",
    "require(reshape2)\n",
    "require(ggplot2)\n",
    "\n",
    "## Create Directories for code and data\n",
    "current_directory = getwd()\n",
    "setwd(paste0(current_directory, \"/Data/\"))\n",
    "\n",
    "load(\"workspace.rData\")\n",
    "\n",
    "Parent.Directory = paste0(current_directory, \"/Data/\")\n",
    "Data.Directory = paste0(current_directory, \"/Data/\")\n",
    "Code.Directory = paste0(current_directory, \"/Code/\")"
   ]
  },
  {
   "cell_type": "markdown",
   "metadata": {
    "collapsed": true
   },
   "source": [
    "### Load data..."
   ]
  },
  {
   "cell_type": "code",
   "execution_count": null,
   "metadata": {
    "collapsed": false
   },
   "outputs": [],
   "source": [
    "lossdata = read.csv(paste0(Data.Directory,\"GBMtoGLM_CustomerDatabase.csv\"))"
   ]
  },
  {
   "cell_type": "markdown",
   "metadata": {},
   "source": [
    "### What does it look like..."
   ]
  },
  {
   "cell_type": "code",
   "execution_count": 2,
   "metadata": {
    "collapsed": false,
    "scrolled": false
   },
   "outputs": [
    {
     "data": {
      "text/html": [
       "<table>\n",
       "<thead><tr><th scope=col>ContractID</th><th scope=col>VehicleID</th><th scope=col>Year</th><th scope=col>Exposure</th><th scope=col>ClaimsCount</th><th scope=col>ClaimsCost</th><th scope=col>CustomerGender</th><th scope=col>CustomerOccupation</th><th scope=col>CustomerType</th><th scope=col>AgeDriver</th><th scope=col>...</th><th scope=col>ClaimsHistoryOverFiveYears_WhenLastDamageClaims</th><th scope=col>ClaimsHistoryOverTenYears_AllExceptDamageClaimsCount</th><th scope=col>PremiumPayment.Numeric</th><th scope=col>DistanceDriven.Numeric</th><th scope=col>ClaimsHistoryOverFiveYears_WhenLastDamageClaims.Numeric</th><th scope=col>sample</th><th scope=col>DBM_poisson1.prediction</th><th scope=col>GBM_poisson1.prediction</th><th scope=col>GLM_poisson1.prediction</th><th scope=col>DBM_poisson2.prediction</th></tr></thead>\n",
       "<tbody>\n",
       "\t<tr><td>192699     </td><td>6834       </td><td>2013       </td><td>0.54520548 </td><td>0          </td><td>0          </td><td>MAN        </td><td>INDEPENDANT</td><td>PRIVATE    </td><td>43         </td><td>...        </td><td>y_+        </td><td>0          </td><td>4          </td><td>NA         </td><td>6          </td><td>0.7209039  </td><td>0.068312145</td><td>0.065808136</td><td>0.060551157</td><td>0.068294184</td></tr>\n",
       "\t<tr><td>130353     </td><td>6835       </td><td>2013       </td><td>0.64383562 </td><td>0          </td><td>0          </td><td>MAN        </td><td>INDEPENDANT</td><td>PRIVATE    </td><td>46         </td><td>...        </td><td>y-4        </td><td>1          </td><td>4          </td><td> 7         </td><td>4          </td><td>0.8757732  </td><td>0.106011507</td><td>0.106102343</td><td>0.095198143</td><td>0.105640702</td></tr>\n",
       "\t<tr><td>130353     </td><td>6835       </td><td>2014       </td><td>0.69041096 </td><td>0          </td><td>0          </td><td>MAN        </td><td>INDEPENDANT</td><td>PRIVATE    </td><td>47         </td><td>...        </td><td>y-5        </td><td>1          </td><td>4          </td><td> 7         </td><td>5          </td><td>0.7609823  </td><td>0.107107520</td><td>0.105523120</td><td>0.095653281</td><td>0.105997815</td></tr>\n",
       "\t<tr><td>130353     </td><td>6835       </td><td>2013       </td><td>0.30958904 </td><td>0          </td><td>0          </td><td>MAN        </td><td>INDEPENDANT</td><td>PRIVATE    </td><td>45         </td><td>...        </td><td>y-4        </td><td>1          </td><td>4          </td><td> 7         </td><td>4          </td><td>0.8861246  </td><td>0.055542444</td><td>0.056136203</td><td>0.049017843</td><td>0.058476845</td></tr>\n",
       "\t<tr><td>130353     </td><td>6835       </td><td>2014       </td><td>0.30958904 </td><td>0          </td><td>0          </td><td>MAN        </td><td>INDEPENDANT</td><td>PRIVATE    </td><td>46         </td><td>...        </td><td>y-5        </td><td>1          </td><td>4          </td><td> 7         </td><td>5          </td><td>0.4564810  </td><td>0.048720541</td><td>0.048761856</td><td>0.045929626</td><td>0.048879045</td></tr>\n",
       "\t<tr><td>130353     </td><td>6835       </td><td>2013       </td><td>0.04657534 </td><td>0          </td><td>0          </td><td>MAN        </td><td>INDEPENDANT</td><td>PRIVATE    </td><td>46         </td><td>...        </td><td>y-4        </td><td>1          </td><td>4          </td><td> 7         </td><td>4          </td><td>0.1663718  </td><td>0.007668918</td><td>0.007675489</td><td>0.006886674</td><td>0.007642093</td></tr>\n",
       "</tbody>\n",
       "</table>\n"
      ],
      "text/latex": [
       "\\begin{tabular}{r|llllllllllllllllllllllllllllllllllllllllllllllllllllllllllllllllllllllllllllllllll}\n",
       " ContractID & VehicleID & Year & Exposure & ClaimsCount & ClaimsCost & CustomerGender & CustomerOccupation & CustomerType & AgeDriver & ... & ClaimsHistoryOverFiveYears\\_WhenLastDamageClaims & ClaimsHistoryOverTenYears\\_AllExceptDamageClaimsCount & PremiumPayment.Numeric & DistanceDriven.Numeric & ClaimsHistoryOverFiveYears\\_WhenLastDamageClaims.Numeric & sample & DBM\\_poisson1.prediction & GBM\\_poisson1.prediction & GLM\\_poisson1.prediction & DBM\\_poisson2.prediction\\\\\n",
       "\\hline\n",
       "\t 192699      & 6834        & 2013        & 0.54520548  & 0           & 0           & MAN         & INDEPENDANT & PRIVATE     & 43          & ...         & y\\_+       & 0           & 4           & NA          & 6           & 0.7209039   & 0.068312145 & 0.065808136 & 0.060551157 & 0.068294184\\\\\n",
       "\t 130353      & 6835        & 2013        & 0.64383562  & 0           & 0           & MAN         & INDEPENDANT & PRIVATE     & 46          & ...         & y-4         & 1           & 4           &  7          & 4           & 0.8757732   & 0.106011507 & 0.106102343 & 0.095198143 & 0.105640702\\\\\n",
       "\t 130353      & 6835        & 2014        & 0.69041096  & 0           & 0           & MAN         & INDEPENDANT & PRIVATE     & 47          & ...         & y-5         & 1           & 4           &  7          & 5           & 0.7609823   & 0.107107520 & 0.105523120 & 0.095653281 & 0.105997815\\\\\n",
       "\t 130353      & 6835        & 2013        & 0.30958904  & 0           & 0           & MAN         & INDEPENDANT & PRIVATE     & 45          & ...         & y-4         & 1           & 4           &  7          & 4           & 0.8861246   & 0.055542444 & 0.056136203 & 0.049017843 & 0.058476845\\\\\n",
       "\t 130353      & 6835        & 2014        & 0.30958904  & 0           & 0           & MAN         & INDEPENDANT & PRIVATE     & 46          & ...         & y-5         & 1           & 4           &  7          & 5           & 0.4564810   & 0.048720541 & 0.048761856 & 0.045929626 & 0.048879045\\\\\n",
       "\t 130353      & 6835        & 2013        & 0.04657534  & 0           & 0           & MAN         & INDEPENDANT & PRIVATE     & 46          & ...         & y-4         & 1           & 4           &  7          & 4           & 0.1663718   & 0.007668918 & 0.007675489 & 0.006886674 & 0.007642093\\\\\n",
       "\\end{tabular}\n"
      ],
      "text/plain": [
       "  ContractID VehicleID Year Exposure   ClaimsCount ClaimsCost CustomerGender\n",
       "1 192699     6834      2013 0.54520548 0           0          MAN           \n",
       "2 130353     6835      2013 0.64383562 0           0          MAN           \n",
       "3 130353     6835      2014 0.69041096 0           0          MAN           \n",
       "4 130353     6835      2013 0.30958904 0           0          MAN           \n",
       "5 130353     6835      2014 0.30958904 0           0          MAN           \n",
       "6 130353     6835      2013 0.04657534 0           0          MAN           \n",
       "  CustomerOccupation CustomerType AgeDriver ...\n",
       "1 INDEPENDANT        PRIVATE      43        ...\n",
       "2 INDEPENDANT        PRIVATE      46        ...\n",
       "3 INDEPENDANT        PRIVATE      47        ...\n",
       "4 INDEPENDANT        PRIVATE      45        ...\n",
       "5 INDEPENDANT        PRIVATE      46        ...\n",
       "6 INDEPENDANT        PRIVATE      46        ...\n",
       "  ClaimsHistoryOverFiveYears_WhenLastDamageClaims\n",
       "1 y_+                                            \n",
       "2 y-4                                            \n",
       "3 y-5                                            \n",
       "4 y-4                                            \n",
       "5 y-5                                            \n",
       "6 y-4                                            \n",
       "  ClaimsHistoryOverTenYears_AllExceptDamageClaimsCount PremiumPayment.Numeric\n",
       "1 0                                                    4                     \n",
       "2 1                                                    4                     \n",
       "3 1                                                    4                     \n",
       "4 1                                                    4                     \n",
       "5 1                                                    4                     \n",
       "6 1                                                    4                     \n",
       "  DistanceDriven.Numeric\n",
       "1 NA                    \n",
       "2  7                    \n",
       "3  7                    \n",
       "4  7                    \n",
       "5  7                    \n",
       "6  7                    \n",
       "  ClaimsHistoryOverFiveYears_WhenLastDamageClaims.Numeric sample   \n",
       "1 6                                                       0.7209039\n",
       "2 4                                                       0.8757732\n",
       "3 5                                                       0.7609823\n",
       "4 4                                                       0.8861246\n",
       "5 5                                                       0.4564810\n",
       "6 4                                                       0.1663718\n",
       "  DBM_poisson1.prediction GBM_poisson1.prediction GLM_poisson1.prediction\n",
       "1 0.068312145             0.065808136             0.060551157            \n",
       "2 0.106011507             0.106102343             0.095198143            \n",
       "3 0.107107520             0.105523120             0.095653281            \n",
       "4 0.055542444             0.056136203             0.049017843            \n",
       "5 0.048720541             0.048761856             0.045929626            \n",
       "6 0.007668918             0.007675489             0.006886674            \n",
       "  DBM_poisson2.prediction\n",
       "1 0.068294184            \n",
       "2 0.105640702            \n",
       "3 0.105997815            \n",
       "4 0.058476845            \n",
       "5 0.048879045            \n",
       "6 0.007642093            "
      ]
     },
     "metadata": {},
     "output_type": "display_data"
    }
   ],
   "source": [
    "head(lossdata)"
   ]
  },
  {
   "cell_type": "markdown",
   "metadata": {},
   "source": [
    "### Simple Feature Generation..."
   ]
  },
  {
   "cell_type": "code",
   "execution_count": null,
   "metadata": {
    "collapsed": true
   },
   "outputs": [],
   "source": [
    "## Convert Categorical into Numeric\n",
    "lossdata$PremiumPayment.Numeric = as.numeric(factor(lossdata$PremiumPayment,levels(lossdata$PremiumPayment)[c(2,4,1,5,3)]))\n",
    "lossdata$DistanceDriven.Numeric = as.numeric(lossdata$DistanceDriven)\n",
    "lossdata$DistanceDriven.Numeric[lossdata$DistanceDriven.Numeric==8] = NA\n",
    "lossdata$ClaimsHistoryOverFiveYears_WhenLastDamageClaims.Numeric = \n",
    "                    as.numeric(lossdata$ClaimsHistoryOverFiveYears_WhenLastDamageClaims)\n",
    "\n",
    "## Remove a handful of missing data for GLM\n",
    "lossdata = lossdata[!is.na(lossdata$Vehicle_Age),]\n",
    "lossdata = lossdata[!is.na(lossdata$ClaimsHistoryOverTenYears_GlassBreakageClaimsCount),]\n",
    "lossdata = lossdata[!is.na(lossdata$ClaimsHistoryOverTenYears_AllExceptDamageClaimsCount),]\n",
    "lossdata = lossdata[lossdata$PremiumPayment != \"ONE SHOT PAYMENT\",]\n",
    "lossdata$PremiumPayment = factor(lossdata$PremiumPayment)"
   ]
  },
  {
   "cell_type": "markdown",
   "metadata": {},
   "source": [
    "### Run Models..."
   ]
  },
  {
   "cell_type": "code",
   "execution_count": null,
   "metadata": {
    "collapsed": true
   },
   "outputs": [],
   "source": [
    "## Model Parameters setting\n",
    "set.seed(12345)\n",
    "dbm.shrinkage = 0.01\n",
    "gbm.shrinkage = 0.01\n",
    "alpha = 5\n",
    "ntree = 2500\n",
    "minobs = 50\n",
    "interaction.depth = 4\n",
    "train.fraction = 0.8\n",
    "test.fraction = 0.2\n",
    "\n",
    "## Setting random sampling\n",
    "lossdata$sample = runif(nrow(lossdata))\n",
    "\n",
    "## DBM formula\n",
    "dbm.formula = ClaimsCount ~ CustomerGender + CustomerType + AgeDriver + AgeDrivingLicense + \n",
    "                            AgeContract + PremiumPayment + UsageType + DistanceDriven.Numeric +  \n",
    "                            Vehicle_Age + Vehicle_Value + Vehicle_PowerValueKW + Vehicle_DoorsCount +\n",
    "                            Vehicle_PlacesCount + Vehicle_Length + Vehicle_Width + \n",
    "                            Vehicle_CylindersCount + Vehicle_WeightOverPowerRatio + \n",
    "                            ClaimsHistoryOverTenYears_DamageClaimsCount + \n",
    "                            ClaimsHistoryOverFiveYears_WhenLastDamageClaims.Numeric + \n",
    "                            ClaimsHistoryOverTenYears_TPLClaimsCount + \n",
    "                            ClaimsHistoryOverTenYears_NotAtFaultTPLClaimsCount \n",
    "\n",
    "## GBM formula\n",
    "var = all.vars(dbm.formula)\n",
    "gbm.formula = as.formula(paste0(var[1],\"~ offset(Exposure) +\", paste(var[-1], collapse=\" + \")))\n",
    "\n",
    "## GLM formula\n",
    "var.glm = gsub(\".Numeric\",\"\",var)\n",
    "glm.formula = as.formula(paste0(var[1],\"~ offset(Exposure) +\", paste(var.glm[-1], collapse=\" + \")))\n",
    "\n",
    "## Run DBM\n",
    "DBM_poisson <- delta(formula = dbm.formula ,\n",
    "              data=lossdata[lossdata$sample < train.fraction,],\n",
    "              distribution = \"poisson\",\n",
    "              n.trees = ntree,\n",
    "              exposure = Exposure,\n",
    "              interaction.depth = interaction.depth, \n",
    "              n.minobsinnode = minobs,\n",
    "              shrinkage = dbm.shrinkage,\n",
    "              bag.fraction = 0.5,\n",
    "              train.fraction =  1-test.fraction,\n",
    "              keep.data = FALSE,\n",
    "              verbose = T)\n",
    "\n",
    "\n",
    "# save(DBM_poisson, file = paste(Code.Directory,\"Stage1_DBM_poisson.rdata\",sep=\"\"))\n",
    "iter_poisson = gbm.perf(DBM_poisson, plot.it = F,method=\"test\")"
   ]
  },
  {
   "cell_type": "markdown",
   "metadata": {},
   "source": [
    "### Rank variable and interaction importance..."
   ]
  },
  {
   "cell_type": "code",
   "execution_count": null,
   "metadata": {
    "collapsed": true
   },
   "outputs": [],
   "source": [
    "variable.importance = relative.influence(DBM_poisson, iter_poisson, T, T)\n",
    "prediction_DBM_poisson_stage1 = lossdata$Exposure * exp(predict.gbm(DBM_poisson, lossdata, iter_poisson))\n",
    "lossdata$DBM_poisson1.prediction = prediction_DBM_poisson_stage1\n",
    "\n",
    "library(doParallel)\n",
    "cl <- makeCluster(6)\n",
    "registerDoParallel(cl)\n",
    "interaction.strength = foreach(i=1:(length(DBM_poisson$var.names)-1)) %dopar%  {\n",
    "  require(gbm)\n",
    "  temp = rep(NA,length(DBM_poisson$var.names))\n",
    "  for (j in (i+1):length(DBM_poisson$var.names)){\n",
    "    temp[j] = interact.gbm(DBM_poisson,lossdata,c(i,j),iter_poisson) \n",
    "  }\n",
    "  temp\n",
    "}\n",
    "stopCluster(cl)\n",
    "\n",
    "interaction.strength = do.call(\"rbind\",interaction.strength)\n",
    "\n",
    "importance.threshold = 20\n",
    "selected.variable = variable.importance[1:importance.threshold]\n",
    "\n",
    "interaction.threshold = 0.075\n",
    "interaction.index.temp = which(interaction.strength>interaction.threshold )\n",
    "interaction.index = cbind(i = interaction.index.temp, j = interaction.index.temp, \n",
    "                          strength = interaction.strength[interaction.index.temp])\n",
    "interaction.index[,2]= ((interaction.index.temp -1) %/% length(DBM_poisson$var.names)) +1\n",
    "interaction.index[,1]= ((interaction.index.temp -1) %% length(DBM_poisson$var.names)) +1\n",
    "interaction.index = interaction.index[order(interaction.index[,3],decreasing = T),]\n",
    "\n",
    "interaction.name =interaction.index\n",
    "interaction.name[,1:2] = DBM_poisson$var.names[interaction.index[,1:2]]\n",
    "interaction.name[,3] = as.numeric(interaction.name[,3] )\n",
    "interaction.name = cbind(interaction.name,interaction.name[,rep(1,3)])\n",
    "interaction.name[,4] = interaction.name[,1] %in% names(selected.variable)\n",
    "interaction.name[,5] = interaction.name[,2] %in% names(selected.variable)\n",
    "interaction.name[,6] = interaction.name[,1] %in% names(selected.variable) * \n",
    "                        interaction.name[,2] %in% names(selected.variable)\n",
    "\n",
    "# save(DBM_poisson, interaction.strength, variable.importance, \n",
    "#      prediction_DBM_poisson_stage1, interaction.name, selected.variable, \n",
    "#      file = paste(Code.Directory, \"Stage1_DBM_poisson.rdata\", sep=\"\"))\n",
    "\n",
    "### ----- Stage 1C Full blown modeling with GLM ---- ###\n",
    "\n",
    "GLM1 = glm(formula = glm.formula, data=lossdata[lossdata$sample < train.fraction,], family = poisson)\n",
    "lossdata$GLM_poisson1.prediction <-  predict(GLM1,lossdata,type=\"response\")\n",
    "# save.image(\"workspace.rData\")"
   ]
  },
  {
   "cell_type": "markdown",
   "metadata": {},
   "source": [
    "### Create simplified model..."
   ]
  },
  {
   "cell_type": "code",
   "execution_count": null,
   "metadata": {
    "collapsed": false
   },
   "outputs": [],
   "source": [
    "variable_stage2 = DBM_poisson$var.names\n",
    "dbm.stage2.formula = dbm.formula\n",
    "\n",
    "interaction.selected = interaction.name[interaction.name[,6] == \"1\",1:2]\n",
    "interaction.matrix = diag(1,length(variable_stage2))\n",
    "for (row in 1:nrow(interaction.selected)){\n",
    "  temp = which(variable_stage2 %in% interaction.selected[row,])\n",
    "  cat(temp,\"\\n\")\n",
    "  interaction.matrix[min(temp),max(temp)] = 1\n",
    "}\n",
    "interaction.matrix[lower.tri(interaction.matrix)] = t(interaction.matrix)[lower.tri(interaction.matrix)]\n",
    "\n",
    "\n",
    "DBM_poisson_stage2 <- delta(formula = dbm.stage2.formula ,\n",
    "                     data=lossdata[lossdata$sample < train.fraction,],\n",
    "                     distribution = \"poisson\",\n",
    "                     n.trees = ntree,\n",
    "                     interaction.matrix = interaction.matrix,\n",
    "                     interaction.depth = 2, \n",
    "                     n.minobsinnode = minobs,\n",
    "                     shrinkage = dbm.shrinkage*2,\n",
    "                     bag.fraction = 0.5,\n",
    "                     train.fraction =   1-test.fraction,\n",
    "                     keep.data = FALSE,\n",
    "                     verbose = T)\n",
    "\n",
    "iter_poisson = gbm.perf(DBM_poisson_stage2, plot.it = F)\n",
    "\n",
    "variable.importance = relative.influence(DBM_poisson_stage2, iter_poisson, T, T)\n",
    "prediction_DBM_poisson_stage2 = lossdata$Exposure * exp(predict(DBM_poisson_stage2, lossdata, iter_poisson))\n",
    "lossdata$DBM_poisson2.prediction = prediction_DBM_poisson_stage2"
   ]
  },
  {
   "cell_type": "markdown",
   "metadata": {
    "collapsed": true
   },
   "source": [
    "### Rate table extraction..."
   ]
  },
  {
   "cell_type": "code",
   "execution_count": null,
   "metadata": {
    "collapsed": false
   },
   "outputs": [],
   "source": [
    "source(paste(Code.Directory,\"differential extraction.R\",sep=\"\"))\n",
    "\n",
    "DBM_object = diff_extract(DBM_poisson_stage2,lossdata, iter_poisson)\n",
    "Var_list = DBM_object[[1]]\n",
    "relativity_list = DBM_object[[2]]\n",
    "\n",
    "offset = 0\n",
    "\n",
    "for (i in 1:length(Var_list)){\n",
    "  Variable = DBM_poisson_stage2$var.names[Var_list[[i]]]\n",
    "  temp= relativity_list[[i]]\n",
    "  temp1 = data.frame(lossdata[lossdata$sample  <train.fraction,Variable])\n",
    "  names(temp1) = Variable\n",
    "  temp1$order = 1:nrow(lossdata[lossdata$sample  <train.fraction,])\n",
    "  fix_factor= merge(temp1, temp, by=Variable,sort=F, all.x= T)\n",
    "  fix_factor = fix_factor[order(fix_factor$order),]\n",
    "  offset = offset + fix_factor$relativity\n",
    "  cat(Variable,\"\\t\\terror: \",sum(is.na(offset)),\"\\t\\t# of unique relativitys: \",length(unique(offset)),\"\\n\")\n",
    "}\n",
    "prediction_DBM = predict(DBM_poisson_stage2,lossdata[lossdata$sample  <train.fraction,],n.tree =iter_poisson) \n",
    "\n",
    "### To show that rate table is working fine.\n",
    "unique(round(prediction_DBM -offset,10))\n",
    "# save(DBM_poisson_stage2, variable.importance, prediction_DBM_poisson_stage2, DBM_object, \n",
    "#      file = paste(Code.Directory,\"Stage2_DBM_poisson.rdata\",sep=\"\"))\n",
    "# save.image(\"workspace.rData\")"
   ]
  },
  {
   "cell_type": "markdown",
   "metadata": {},
   "source": [
    "### Diagnostics...\n",
    "\n",
    "### Actual by Predicted plot\n",
    "\n",
    "For continuous responses, the Actual by Predicted plot shows how well the model fits the data. A diagonal line represents the locus of where predicted and actual values are the same. For a perfect fit, all the points would be on this diagonal."
   ]
  },
  {
   "cell_type": "code",
   "execution_count": 2,
   "metadata": {
    "collapsed": false
   },
   "outputs": [
    {
     "data": {},
     "metadata": {},
     "output_type": "display_data"
    },
    {
     "data": {
      "image/png": "[encoded data removed]",
      "text/plain": [
       "plot without title"
      ]
     },
     "metadata": {},
     "output_type": "display_data"
    }
   ],
   "source": [
    "model.list = c(\"GBM_poisson1\",\"DBM_poisson1\",\"DBM_poisson2\",\"GLM_poisson1\")\n",
    "model.label = c(\"GBM_poisson1\",\"DBM_poisson1\",\"DBM_poisson2\",\"GLM_poisson1\")\n",
    "\n",
    "Lift.data = NULL\n",
    "bucket = 10\n",
    "sum.Exposure = sum(lossdata$Exposure[lossdata$sample >train.fraction])*1.000000001\n",
    "for (model.name in model.list){\n",
    "  temp = lossdata[lossdata$sample>train.fraction,][c(paste(model.name,\".prediction\",sep=\"\"),\"Exposure\",\"ClaimsCount\")]\n",
    "  temp[paste(model.name,\".link\",sep=\"\")] = temp[paste(model.name,\".prediction\",sep=\"\")] /temp$Exposure\n",
    "  temp = temp[order(temp[paste(model.name,\".link\",sep=\"\")]),]  \n",
    "  temp$Model = ceiling(cumsum(temp$Exposure*bucket/sum.Exposure))\n",
    "  temp1 = ddply(temp, \"Model\", \n",
    "                function(x) data.frame(Prediction = sum(x[[paste(model.name,\".prediction\",sep=\"\")]])/sum(x$Exposure), \n",
    "                                                      Actual = sum(x$ClaimsCount)/sum(x$Exposure)))\n",
    "  temp1$Model = model.name\n",
    "  Lift.data = rbind(Lift.data, temp1)\n",
    "}\n",
    "\n",
    "yrange=ceiling(max(Lift.data[,2:3]/0.01))*0.01\n",
    "\n",
    "perfect.line = data.frame(prediction = range(Lift.data[,2:3]), actual = range(Lift.data[,2:3]))\n",
    "perfect.line=rbind(c(0,0),perfect.line, c(yrange, yrange))\n",
    "perfect.line$Model = \"Perfect\"\n",
    "                \n",
    "ggplot(data = Lift.data, aes(x = Prediction, y = Actual, colour = Model, shape = Model, fill=Model)) + \n",
    "                scale_shape_manual(values=c(21:24,3,4,46,8)) +\n",
    "                geom_point(size = 6) +\n",
    "                geom_line(data = perfect.line, aes(x= prediction, y= actual)) +\n",
    "                theme(title = element_text(size = rel(1)),\n",
    "                      axis.text= element_text(size = rel(1)),\n",
    "                      legend.key.size = unit(1,\"cm\"),\n",
    "                      legend.text =element_text(size = rel(1))) +\n",
    "                scale_x_continuous(limits=c(0,ceiling(max(Lift.data[,2:3]/0.01))*0.01)) +\n",
    "                scale_y_continuous(limits=c(0,ceiling(max(Lift.data[,2:3]/0.01))*0.01))"
   ]
  },
  {
   "cell_type": "markdown",
   "metadata": {},
   "source": [
    "### Double Lift Plot for GBM model against GLM model\n",
    "\n",
    "Double lift charts are similar to simple quantile plots, we sort based on the ratio of the two models’ predicted loss costs. Double lift charts directly compare the results of two models.\n",
    "\n",
    "Steps in creating a double lift chart:\n",
    "1. Calculate the ratio of (Model A predicted loss cost)/(Model B predicted loss cost).\n",
    "2. Sort the data set based on the ratio calculated above.\n",
    "3. Bucket the data into quantiles (deciles, quintiles, etc.).\n",
    "4. For each bucket, plot three quantities:\n",
    "    \n",
    "    a. The model A predicted loss cost.\n",
    "    \n",
    "    b. The model B predicted loss cost.\n",
    "    \n",
    "    c. The actual loss cost.\n",
    " \n",
    "We then see which model more closely matches the actual loss costs."
   ]
  },
  {
   "cell_type": "code",
   "execution_count": 6,
   "metadata": {
    "collapsed": false
   },
   "outputs": [
    {
     "data": {},
     "metadata": {},
     "output_type": "display_data"
    },
    {
     "data": {
      "image/png": "[encoded data removed]",
      "text/plain": [
       "Plot with title \"on training dataset\""
      ]
     },
     "metadata": {},
     "output_type": "display_data"
    },
    {
     "data": {
      "image/png": "[encoded data removed]",
      "text/plain": [
       "plot without title"
      ]
     },
     "metadata": {},
     "output_type": "display_data"
    }
   ],
   "source": [
    "source(paste(Code.Directory,\"Lift.Report.R\",sep=\"\"))\n",
    "\n",
    "Training.Double.Lift = Double.Lift(lossdata[lossdata$sample < train.fraction,], \n",
    "                                   \"GBM_poisson1.prediction\",\"ClaimsCount\",\"GLM_poisson1.prediction\",\"Exposure\",\n",
    "                                   by.variable=NULL,10, bin =c(0,seq(0.7,1.3,0.05),999), balance = TRUE, plot = TRUE, \n",
    "                                   header = \"Relative Performance of GBM over GLM\",name = \"on training dataset\")\n",
    "\n",
    "Training.Double.Lift$Exposure2 = Training.Double.Lift$eexp/max(Training.Double.Lift$eexp) * \n",
    "                        diff(range(Training.Double.Lift[,c((length(Training.Double.Lift)-1):length(Training.Double.Lift))])) + \n",
    "                        min(Training.Double.Lift[,c((length(Training.Double.Lift)-1):length(Training.Double.Lift))])\n",
    "\n",
    "exp.plot = melt(Training.Double.Lift[,c(\"index_band\",\"Exposure2\")], id.vars=\"index_band\")\n",
    "colnames(exp.plot) = c(\"index_band\",\"Name\", \"Exposure\")\n",
    "\n",
    "double.lift.data=Training.Double.Lift[,c(\"index_band\",\"LR\",\"dislocation\")]\n",
    "names(double.lift.data)=c(\"index_band\",\"Actual / GLM\",\"GBM / GLM\")\n",
    "new.plot = melt(double.lift.data, id.vars=\"index_band\")\n",
    "colnames(new.plot)= c(\"index_band\" ,\"Legend\", \"dislocation\")\n",
    "\n",
    "ggplot() + \n",
    "  geom_line(data=new.plot, \n",
    "            aes(x = index_band, y = dislocation, group=Legend, color = Legend),\n",
    "            size=0.5) +\n",
    "  geom_bar(data=exp.plot,\n",
    "                 aes(x=index_band, stat=\"bin\", weight=Exposure), \n",
    "                 alpha=0.25) +\n",
    "  xlab(\"\") +\n",
    "  ylab(\"Multiple of Ratio\") +\n",
    "  theme(title = element_text(size = rel(1)),\n",
    "        axis.text.x = element_text(angle=45),\n",
    "        axis.text = element_text(size = rel(1)), \n",
    "        legend.key.size = unit(1,\"cm\"), \n",
    "        legend.text = element_text(size = rel(1)))\n"
   ]
  }
 ],
 "metadata": {
  "kernelspec": {
   "display_name": "R",
   "language": "R",
   "name": "ir"
  },
  "language_info": {
   "codemirror_mode": "r",
   "file_extension": ".r",
   "mimetype": "text/x-r-source",
   "name": "R",
   "pygments_lexer": "r",
   "version": "3.2.3"
  }
 },
 "nbformat": 4,
 "nbformat_minor": 1
}
